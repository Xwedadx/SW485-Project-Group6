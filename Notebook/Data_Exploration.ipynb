import pandas as pd
import matplotlib.pyplot as plt
import seaborn as sns

# Load the dataset
df = pd.read_csv("data.csv")

# Display basic information
print("Dataset Overview:")
display(df.head())

# Dataset summary
print("\nGeneral Information:")
df.info()

print("\nSummary Statistics:")
display(df.describe())

# Check for missing values
print("\nMissing Values:")
print(df.isnull().sum())

# Visualizing missing values
plt.figure(figsize=(10,5))
sns.heatmap(df.isnull(), cbar=False, cmap='viridis')
plt.title("Missing Values Heatmap")
plt.show()

# Distribution of numerical columns
numerical_columns = df.select_dtypes(include=['int64', 'float64']).columns
for column in numerical_columns:
    plt.figure(figsize=(6, 4))
    sns.histplot(df[column], kde=True, bins=30)
    plt.title(f"Distribution of {column}")
    plt.show()

# Handling missing values
df_cleaned = df.dropna()

# Encoding categorical columns
categorical_columns = df_cleaned.select_dtypes(include=['object']).columns
df_encoded = pd.get_dummies(df_cleaned, columns=categorical_columns, drop_first=True)

# Normalizing numerical columns
numerical_columns = df_encoded.select_dtypes(include=['int64', 'float64']).columns
df_encoded[numerical_columns] = (df_encoded[numerical_columns] - df_encoded[numerical_columns].min()) / (df_encoded[numerical_columns].max() - df_encoded[numerical_columns].min())

# Display the processed dataset
display(df_encoded.head())

# Save the cleaned dataset
df_encoded.to_csv("Dataset/processed_data.csv", index=False)

